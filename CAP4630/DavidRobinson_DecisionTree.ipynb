{
 "cells": [
  {
   "cell_type": "code",
   "execution_count": 322,
   "metadata": {},
   "outputs": [],
   "source": [
    "import os\n",
    "\n",
    "import numpy as np\n",
    "import pandas as pd\n",
    "\n",
    "from sklearn.tree import DecisionTreeClassifier, plot_tree\n",
    "from sklearn.model_selection import train_test_split\n",
    "from sklearn.metrics import classification_report, accuracy_score"
   ]
  },
  {
   "cell_type": "markdown",
   "metadata": {},
   "source": [
    "### Data Loading and Preprocessing"
   ]
  },
  {
   "cell_type": "code",
   "execution_count": 323,
   "metadata": {},
   "outputs": [],
   "source": [
    "df = pd.read_csv(os.path.join(\"census\", \"census-income.data\"))\n",
    "# test_df = pd.read_csv(os.path.join(\"census\", \"census-income.test\"))\n",
    "\n",
    "# instance weight is ignored\n",
    "df.drop(df.columns[24], axis=1, inplace=True)"
   ]
  },
  {
   "cell_type": "code",
   "execution_count": 324,
   "metadata": {},
   "outputs": [],
   "source": [
    "column_names = {\n",
    "    \"age\": \"continuous\",\n",
    "    \"class of worker\": \"categorical\",\n",
    "    \"detailed industry recode\": \"categorical\",\n",
    "    \"detailed occupation recode\": \"categorical\",\n",
    "    \"education\": \"categorical\",\n",
    "    \"wage per hour\": \"continuous\",\n",
    "    \"enroll in edu inst last wk\": \"categorical\",\n",
    "    \"marital stat\": \"categorical\",\n",
    "    \"major industry code\": \"categorical\",\n",
    "    \"major occupation code\": \"categorical\",\n",
    "    \"race\": \"categorical\",\n",
    "    \"hispanic origin\": \"categorical\",\n",
    "    \"sex\": \"categorical\",\n",
    "    \"member of a labor union\": \"categorical\",\n",
    "    \"reason for unemployment\": \"categorical\",\n",
    "    \"full or part time employment stat\": \"categorical\",\n",
    "    \"capital gains\": \"continuous\",\n",
    "    \"capital losses\": \"continuous\",\n",
    "    \"dividends from stocks\": \"continuous\",\n",
    "    \"tax filer stat\": \"categorical\",\n",
    "    \"region of previous residence\": \"categorical\",\n",
    "    \"state of previous residence\": \"categorical\",\n",
    "    \"detailed household and family stat\": \"categorical\",\n",
    "    \"detailed household summary in household\": \"categorical\",\n",
    "    # \"instance weight\": \"continuous\",\n",
    "    \"migration code-change in msa\": \"categorical\",\n",
    "    \"migration code-change in reg\": \"categorical\",\n",
    "    \"migration code-move within reg\": \"categorical\",\n",
    "    \"lived in house one year ago\": \"categorical\",\n",
    "    \"migration prev res in sunbelt\": \"categorical\",\n",
    "    \"num persons worked for employer\": \"continuous\",\n",
    "    \"family members under 18\": \"categorical\",\n",
    "    \"country of birth father\": \"categorical\",\n",
    "    \"country of birth mother\": \"categorical\",\n",
    "    \"country of birth self\": \"categorical\",\n",
    "    \"citizenship\": \"categorical\",\n",
    "    \"own business or self employed\": \"categorical\",\n",
    "    \"fill inc questionnaire for veteran's admin\": \"categorical\",\n",
    "    \"veterans benefits\": \"categorical\",\n",
    "    \"weeks worked in year\": \"continuous\",\n",
    "    \"year\": \"categorical\",\n",
    "    \"income\": \"target\"\n",
    "}\n",
    "continuous_col = [k for k, v in column_names.items() if v == 'continuous']\n",
    "categorical_col = [k for k, v in column_names.items() if v == 'categorical']\n",
    "\n",
    "# add column names\n",
    "df.columns = column_names.keys()"
   ]
  },
  {
   "cell_type": "code",
   "execution_count": 325,
   "metadata": {},
   "outputs": [],
   "source": [
    "def preprocess(df):\n",
    "    # remove duplicates and assign most common target value\n",
    "    feature_columns = df.columns.difference(['income'])\n",
    "    df = df.groupby(feature_columns.to_list())['income'].agg(lambda x: x.mode()[0]).reset_index()\n",
    "\n",
    "    # find columns with missing values\n",
    "    missing_val_col = [x for x in column_names.keys() if ' ?' in df[x].values]\n",
    "\n",
    "    # set missing values to mode\n",
    "    for col in missing_val_col:\n",
    "        df[col] = df[col].replace(' ?', df[col].mode()[0])\n",
    "\n",
    "    # one hot encoding for categorical features\n",
    "    df = pd.get_dummies(df, columns=categorical_col, dtype=int)\n",
    "\n",
    "    return df"
   ]
  },
  {
   "cell_type": "code",
   "execution_count": 326,
   "metadata": {},
   "outputs": [
    {
     "data": {
      "text/html": [
       "<div>\n",
       "<style scoped>\n",
       "    .dataframe tbody tr th:only-of-type {\n",
       "        vertical-align: middle;\n",
       "    }\n",
       "\n",
       "    .dataframe tbody tr th {\n",
       "        vertical-align: top;\n",
       "    }\n",
       "\n",
       "    .dataframe thead th {\n",
       "        text-align: right;\n",
       "    }\n",
       "</style>\n",
       "<table border=\"1\" class=\"dataframe\">\n",
       "  <thead>\n",
       "    <tr style=\"text-align: right;\">\n",
       "      <th></th>\n",
       "      <th>age</th>\n",
       "      <th>capital gains</th>\n",
       "      <th>capital losses</th>\n",
       "      <th>dividends from stocks</th>\n",
       "      <th>num persons worked for employer</th>\n",
       "      <th>wage per hour</th>\n",
       "      <th>weeks worked in year</th>\n",
       "      <th>income</th>\n",
       "      <th>class of worker_ Federal government</th>\n",
       "      <th>class of worker_ Local government</th>\n",
       "      <th>...</th>\n",
       "      <th>own business or self employed_1</th>\n",
       "      <th>own business or self employed_2</th>\n",
       "      <th>fill inc questionnaire for veteran's admin_ No</th>\n",
       "      <th>fill inc questionnaire for veteran's admin_ Not in universe</th>\n",
       "      <th>fill inc questionnaire for veteran's admin_ Yes</th>\n",
       "      <th>veterans benefits_0</th>\n",
       "      <th>veterans benefits_1</th>\n",
       "      <th>veterans benefits_2</th>\n",
       "      <th>year_94</th>\n",
       "      <th>year_95</th>\n",
       "    </tr>\n",
       "  </thead>\n",
       "  <tbody>\n",
       "    <tr>\n",
       "      <th>0</th>\n",
       "      <td>0</td>\n",
       "      <td>0</td>\n",
       "      <td>0</td>\n",
       "      <td>0</td>\n",
       "      <td>0</td>\n",
       "      <td>0</td>\n",
       "      <td>0</td>\n",
       "      <td>- 50000.</td>\n",
       "      <td>0</td>\n",
       "      <td>0</td>\n",
       "      <td>...</td>\n",
       "      <td>0</td>\n",
       "      <td>0</td>\n",
       "      <td>0</td>\n",
       "      <td>1</td>\n",
       "      <td>0</td>\n",
       "      <td>1</td>\n",
       "      <td>0</td>\n",
       "      <td>0</td>\n",
       "      <td>0</td>\n",
       "      <td>1</td>\n",
       "    </tr>\n",
       "    <tr>\n",
       "      <th>1</th>\n",
       "      <td>0</td>\n",
       "      <td>0</td>\n",
       "      <td>0</td>\n",
       "      <td>0</td>\n",
       "      <td>0</td>\n",
       "      <td>0</td>\n",
       "      <td>0</td>\n",
       "      <td>- 50000.</td>\n",
       "      <td>0</td>\n",
       "      <td>0</td>\n",
       "      <td>...</td>\n",
       "      <td>0</td>\n",
       "      <td>0</td>\n",
       "      <td>0</td>\n",
       "      <td>1</td>\n",
       "      <td>0</td>\n",
       "      <td>1</td>\n",
       "      <td>0</td>\n",
       "      <td>0</td>\n",
       "      <td>1</td>\n",
       "      <td>0</td>\n",
       "    </tr>\n",
       "    <tr>\n",
       "      <th>2</th>\n",
       "      <td>0</td>\n",
       "      <td>0</td>\n",
       "      <td>0</td>\n",
       "      <td>0</td>\n",
       "      <td>0</td>\n",
       "      <td>0</td>\n",
       "      <td>0</td>\n",
       "      <td>- 50000.</td>\n",
       "      <td>0</td>\n",
       "      <td>0</td>\n",
       "      <td>...</td>\n",
       "      <td>0</td>\n",
       "      <td>0</td>\n",
       "      <td>0</td>\n",
       "      <td>1</td>\n",
       "      <td>0</td>\n",
       "      <td>1</td>\n",
       "      <td>0</td>\n",
       "      <td>0</td>\n",
       "      <td>0</td>\n",
       "      <td>1</td>\n",
       "    </tr>\n",
       "    <tr>\n",
       "      <th>3</th>\n",
       "      <td>0</td>\n",
       "      <td>0</td>\n",
       "      <td>0</td>\n",
       "      <td>0</td>\n",
       "      <td>0</td>\n",
       "      <td>0</td>\n",
       "      <td>0</td>\n",
       "      <td>- 50000.</td>\n",
       "      <td>0</td>\n",
       "      <td>0</td>\n",
       "      <td>...</td>\n",
       "      <td>0</td>\n",
       "      <td>0</td>\n",
       "      <td>0</td>\n",
       "      <td>1</td>\n",
       "      <td>0</td>\n",
       "      <td>1</td>\n",
       "      <td>0</td>\n",
       "      <td>0</td>\n",
       "      <td>0</td>\n",
       "      <td>1</td>\n",
       "    </tr>\n",
       "    <tr>\n",
       "      <th>4</th>\n",
       "      <td>0</td>\n",
       "      <td>0</td>\n",
       "      <td>0</td>\n",
       "      <td>0</td>\n",
       "      <td>0</td>\n",
       "      <td>0</td>\n",
       "      <td>0</td>\n",
       "      <td>- 50000.</td>\n",
       "      <td>0</td>\n",
       "      <td>0</td>\n",
       "      <td>...</td>\n",
       "      <td>0</td>\n",
       "      <td>0</td>\n",
       "      <td>0</td>\n",
       "      <td>1</td>\n",
       "      <td>0</td>\n",
       "      <td>1</td>\n",
       "      <td>0</td>\n",
       "      <td>0</td>\n",
       "      <td>1</td>\n",
       "      <td>0</td>\n",
       "    </tr>\n",
       "  </tbody>\n",
       "</table>\n",
       "<p>5 rows × 507 columns</p>\n",
       "</div>"
      ],
      "text/plain": [
       "   age  capital gains  capital losses  dividends from stocks  \\\n",
       "0    0              0               0                      0   \n",
       "1    0              0               0                      0   \n",
       "2    0              0               0                      0   \n",
       "3    0              0               0                      0   \n",
       "4    0              0               0                      0   \n",
       "\n",
       "   num persons worked for employer  wage per hour  weeks worked in year  \\\n",
       "0                                0              0                     0   \n",
       "1                                0              0                     0   \n",
       "2                                0              0                     0   \n",
       "3                                0              0                     0   \n",
       "4                                0              0                     0   \n",
       "\n",
       "      income  class of worker_ Federal government  \\\n",
       "0   - 50000.                                    0   \n",
       "1   - 50000.                                    0   \n",
       "2   - 50000.                                    0   \n",
       "3   - 50000.                                    0   \n",
       "4   - 50000.                                    0   \n",
       "\n",
       "   class of worker_ Local government  ...  own business or self employed_1  \\\n",
       "0                                  0  ...                                0   \n",
       "1                                  0  ...                                0   \n",
       "2                                  0  ...                                0   \n",
       "3                                  0  ...                                0   \n",
       "4                                  0  ...                                0   \n",
       "\n",
       "   own business or self employed_2  \\\n",
       "0                                0   \n",
       "1                                0   \n",
       "2                                0   \n",
       "3                                0   \n",
       "4                                0   \n",
       "\n",
       "   fill inc questionnaire for veteran's admin_ No  \\\n",
       "0                                               0   \n",
       "1                                               0   \n",
       "2                                               0   \n",
       "3                                               0   \n",
       "4                                               0   \n",
       "\n",
       "   fill inc questionnaire for veteran's admin_ Not in universe  \\\n",
       "0                                                  1             \n",
       "1                                                  1             \n",
       "2                                                  1             \n",
       "3                                                  1             \n",
       "4                                                  1             \n",
       "\n",
       "   fill inc questionnaire for veteran's admin_ Yes  veterans benefits_0  \\\n",
       "0                                                0                    1   \n",
       "1                                                0                    1   \n",
       "2                                                0                    1   \n",
       "3                                                0                    1   \n",
       "4                                                0                    1   \n",
       "\n",
       "   veterans benefits_1  veterans benefits_2  year_94  year_95  \n",
       "0                    0                    0        0        1  \n",
       "1                    0                    0        1        0  \n",
       "2                    0                    0        0        1  \n",
       "3                    0                    0        0        1  \n",
       "4                    0                    0        1        0  \n",
       "\n",
       "[5 rows x 507 columns]"
      ]
     },
     "execution_count": 326,
     "metadata": {},
     "output_type": "execute_result"
    }
   ],
   "source": [
    "df = preprocess(df)\n",
    "df.head()"
   ]
  },
  {
   "cell_type": "markdown",
   "metadata": {},
   "source": [
    "### Splitting the Data and Training the Model"
   ]
  },
  {
   "cell_type": "code",
   "execution_count": 327,
   "metadata": {},
   "outputs": [
    {
     "data": {
      "text/plain": [
       "((106964, 506), (45843, 506), (106964,), (45843,))"
      ]
     },
     "execution_count": 327,
     "metadata": {},
     "output_type": "execute_result"
    }
   ],
   "source": [
    "# get input and output values for train and validation splits\n",
    "X = df.drop(columns=['income'])\n",
    "y = df['income']\n",
    "X_train, X_val, y_train, y_val = train_test_split(X, y, test_size=0.3, random_state=1234)\n",
    "\n",
    "X_train.shape, X_val.shape, y_train.shape, y_val.shape"
   ]
  },
  {
   "cell_type": "code",
   "execution_count": 328,
   "metadata": {},
   "outputs": [],
   "source": [
    "# train model \n",
    "model = DecisionTreeClassifier(max_depth=3)\n",
    "\n",
    "model.fit(X_train, y_train);"
   ]
  },
  {
   "cell_type": "code",
   "execution_count": 329,
   "metadata": {},
   "outputs": [
    {
     "name": "stdout",
     "output_type": "stream",
     "text": [
      "Accuracy: 92.9\n",
      "              precision    recall  f1-score   support\n",
      "\n",
      "    - 50000.       0.93      1.00      0.96     42137\n",
      "     50000+.       0.79      0.17      0.27      3706\n",
      "\n",
      "    accuracy                           0.93     45843\n",
      "   macro avg       0.86      0.58      0.62     45843\n",
      "weighted avg       0.92      0.93      0.91     45843\n",
      "\n"
     ]
    }
   ],
   "source": [
    "# evaluate model\n",
    "y_pred = model.predict(X_val)\n",
    "\n",
    "acc = accuracy_score(y_val, y_pred)\n",
    "report = classification_report(y_val, y_pred)\n",
    "print(f'Accuracy: {round(acc * 100, 2)}\\n{report}')"
   ]
  },
  {
   "cell_type": "markdown",
   "metadata": {},
   "source": [
    "### Visualizing the Decision Tree"
   ]
  },
  {
   "cell_type": "code",
   "execution_count": 330,
   "metadata": {},
   "outputs": [
    {
     "data": {
      "image/png": "[encoded data removed]",
      "text/plain": [
       "<Figure size 640x480 with 1 Axes>"
      ]
     },
     "metadata": {},
     "output_type": "display_data"
    }
   ],
   "source": [
    "plot_tree(model);"
   ]
  },
  {
   "cell_type": "markdown",
   "metadata": {},
   "source": [
    "### Feature Importance"
   ]
  },
  {
   "cell_type": "code",
   "execution_count": 331,
   "metadata": {},
   "outputs": [
    {
     "data": {
      "text/plain": [
       "{'capital gains': 0.5275886006037621,\n",
       " 'dividends from stocks': 0.22286831045770383,\n",
       " 'weeks worked in year': 0.22686330930114193,\n",
       " 'sex_ Male': 0.010524756715387428,\n",
       " 'tax filer stat_ Single': 0.012155022922004785}"
      ]
     },
     "execution_count": 331,
     "metadata": {},
     "output_type": "execute_result"
    }
   ],
   "source": [
    "importance_scores = model.feature_importances_\n",
    "non_zero_feature_scores = {k: v for k, v in zip(X.columns, importance_scores) if v != 0}\n",
    "non_zero_feature_scores"
   ]
  },
  {
   "cell_type": "code",
   "execution_count": null,
   "metadata": {},
   "outputs": [],
   "source": []
  }
 ],
 "metadata": {
  "kernelspec": {
   "display_name": "base",
   "language": "python",
   "name": "python3"
  },
  "language_info": {
   "codemirror_mode": {
    "name": "ipython",
    "version": 3
   },
   "file_extension": ".py",
   "mimetype": "text/x-python",
   "name": "python",
   "nbconvert_exporter": "python",
   "pygments_lexer": "ipython3",
   "version": "3.12.7"
  }
 },
 "nbformat": 4,
 "nbformat_minor": 2
}
